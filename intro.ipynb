{
 "cells": [
  {
   "cell_type": "code",
   "execution_count": 1,
   "metadata": {},
   "outputs": [
    {
     "name": "stdout",
     "output_type": "stream",
     "text": [
      "hello world\n"
     ]
    }
   ],
   "source": [
    "print(\"hello world\")"
   ]
  },
  {
   "cell_type": "code",
   "execution_count": 8,
   "metadata": {},
   "outputs": [
    {
     "name": "stdout",
     "output_type": "stream",
     "text": [
      "10\n"
     ]
    }
   ],
   "source": [
    "a = 2\n",
    "b = 8\n",
    "print(a + b)"
   ]
  },
  {
   "cell_type": "markdown",
   "metadata": {},
   "source": [
    "# Cours d'intro Python\n",
    "\n",
    "## Sous titre\n",
    "\n",
    "* item 1\n",
    "* item 2\n",
    "\n",
    "paragraphe\n"
   ]
  },
  {
   "cell_type": "code",
   "execution_count": 4,
   "metadata": {},
   "outputs": [
    {
     "name": "stdout",
     "output_type": "stream",
     "text": [
      "bonjour\n"
     ]
    }
   ],
   "source": [
    "print(\"bonjour\")"
   ]
  },
  {
   "cell_type": "code",
   "execution_count": 6,
   "metadata": {},
   "outputs": [
    {
     "name": "stdout",
     "output_type": "stream",
     "text": [
      "2\n"
     ]
    }
   ],
   "source": [
    "print(a)"
   ]
  },
  {
   "cell_type": "code",
   "execution_count": 7,
   "metadata": {},
   "outputs": [
    {
     "name": "stdout",
     "output_type": "stream",
     "text": [
      "bonjour\n"
     ]
    }
   ],
   "source": [
    "print(\"bonjour\")"
   ]
  },
  {
   "cell_type": "code",
   "execution_count": 9,
   "metadata": {},
   "outputs": [],
   "source": [
    "a = 10"
   ]
  },
  {
   "cell_type": "code",
   "execution_count": 10,
   "metadata": {},
   "outputs": [
    {
     "name": "stdout",
     "output_type": "stream",
     "text": [
      "10\n"
     ]
    }
   ],
   "source": [
    "print(a)"
   ]
  },
  {
   "cell_type": "code",
   "execution_count": 11,
   "metadata": {},
   "outputs": [],
   "source": [
    "ma_variable = 12"
   ]
  },
  {
   "cell_type": "code",
   "execution_count": 15,
   "metadata": {},
   "outputs": [
    {
     "name": "stdout",
     "output_type": "stream",
     "text": [
      "12\n",
      "<class 'int'>\n"
     ]
    }
   ],
   "source": [
    "ma_variable = 12\n",
    "print(ma_variable)\n",
    "print(type(ma_variable))"
   ]
  },
  {
   "cell_type": "code",
   "execution_count": 23,
   "metadata": {},
   "outputs": [
    {
     "name": "stdout",
     "output_type": "stream",
     "text": [
      "Bonjour\n",
      "10\n",
      "<class 'str'>\n"
     ]
    }
   ],
   "source": [
    "ma_variable = \"Bonjour\"\n",
    "Ma_variable = 10\n",
    "print(ma_variable)\n",
    "print(Ma_variable)\n",
    "print(type(ma_variable))"
   ]
  },
  {
   "cell_type": "code",
   "execution_count": 19,
   "metadata": {},
   "outputs": [],
   "source": [
    "a = 10 # int\n",
    "b = 1.2 # float\n",
    "c = False or True # bool\n",
    "d = False and True # bool\n",
    "e = 2j ** 2 # complex\n",
    "f = None # None"
   ]
  },
  {
   "cell_type": "code",
   "execution_count": 20,
   "metadata": {},
   "outputs": [
    {
     "data": {
      "text/plain": [
       "11.2"
      ]
     },
     "execution_count": 20,
     "metadata": {},
     "output_type": "execute_result"
    }
   ],
   "source": [
    "a + b"
   ]
  },
  {
   "cell_type": "code",
   "execution_count": 21,
   "metadata": {},
   "outputs": [
    {
     "data": {
      "text/plain": [
       "1.5"
      ]
     },
     "execution_count": 21,
     "metadata": {},
     "output_type": "execute_result"
    }
   ],
   "source": [
    "3 / 2"
   ]
  },
  {
   "cell_type": "code",
   "execution_count": 22,
   "metadata": {},
   "outputs": [
    {
     "data": {
      "text/plain": [
       "1"
      ]
     },
     "execution_count": 22,
     "metadata": {},
     "output_type": "execute_result"
    }
   ],
   "source": [
    "3 // 2"
   ]
  },
  {
   "cell_type": "markdown",
   "metadata": {},
   "source": [
    "## Les séquences"
   ]
  },
  {
   "cell_type": "code",
   "execution_count": 61,
   "metadata": {},
   "outputs": [],
   "source": [
    "ma_liste = [0, 4, 6, 4]\n",
    "mon_set = {4, 5, 4}\n",
    "ma_chaine = \"Bonjour\"\n",
    "mon_tuple = (1, 4, 8)\n",
    "mon_dico = {\"prenom\": \"Agathe\", \"nom\": \"Bernier\"}"
   ]
  },
  {
   "cell_type": "code",
   "execution_count": 34,
   "metadata": {},
   "outputs": [
    {
     "name": "stdout",
     "output_type": "stream",
     "text": [
      "0\n",
      "4\n",
      "6\n",
      "4\n",
      "14\n"
     ]
    },
    {
     "ename": "IndexError",
     "evalue": "list index out of range",
     "output_type": "error",
     "traceback": [
      "\u001b[1;31m---------------------------------------------------------------------------\u001b[0m",
      "\u001b[1;31mIndexError\u001b[0m                                Traceback (most recent call last)",
      "\u001b[1;32m<ipython-input-34-c2cb8998db9c>\u001b[0m in \u001b[0;36m<module>\u001b[1;34m\u001b[0m\n\u001b[0;32m      4\u001b[0m \u001b[0mprint\u001b[0m\u001b[1;33m(\u001b[0m\u001b[0mma_liste\u001b[0m\u001b[1;33m[\u001b[0m\u001b[1;36m3\u001b[0m\u001b[1;33m]\u001b[0m\u001b[1;33m)\u001b[0m\u001b[1;33m\u001b[0m\u001b[1;33m\u001b[0m\u001b[0m\n\u001b[0;32m      5\u001b[0m \u001b[0mprint\u001b[0m\u001b[1;33m(\u001b[0m\u001b[0msum\u001b[0m\u001b[1;33m(\u001b[0m\u001b[0mma_liste\u001b[0m\u001b[1;33m)\u001b[0m\u001b[1;33m)\u001b[0m\u001b[1;33m\u001b[0m\u001b[1;33m\u001b[0m\u001b[0m\n\u001b[1;32m----> 6\u001b[1;33m \u001b[0mprint\u001b[0m\u001b[1;33m(\u001b[0m\u001b[0mma_liste\u001b[0m\u001b[1;33m[\u001b[0m\u001b[1;36m4\u001b[0m\u001b[1;33m]\u001b[0m\u001b[1;33m)\u001b[0m \u001b[1;31m# erreur : on va jusqu'à la taille - 1\u001b[0m\u001b[1;33m\u001b[0m\u001b[1;33m\u001b[0m\u001b[0m\n\u001b[0m",
      "\u001b[1;31mIndexError\u001b[0m: list index out of range"
     ]
    }
   ],
   "source": [
    "print(ma_liste[0])\n",
    "print(ma_liste[1])\n",
    "print(ma_liste[2])\n",
    "print(ma_liste[3])\n",
    "print(sum(ma_liste))\n",
    "print(ma_liste[4]) # erreur : on va jusqu'à la taille - 1\n"
   ]
  },
  {
   "cell_type": "code",
   "execution_count": 35,
   "metadata": {},
   "outputs": [
    {
     "name": "stdout",
     "output_type": "stream",
     "text": [
      "{4, 5}\n",
      "False\n",
      "9\n"
     ]
    },
    {
     "ename": "TypeError",
     "evalue": "'set' object is not subscriptable",
     "output_type": "error",
     "traceback": [
      "\u001b[1;31m---------------------------------------------------------------------------\u001b[0m",
      "\u001b[1;31mTypeError\u001b[0m                                 Traceback (most recent call last)",
      "\u001b[1;32m<ipython-input-35-14041b924843>\u001b[0m in \u001b[0;36m<module>\u001b[1;34m\u001b[0m\n\u001b[0;32m      2\u001b[0m \u001b[0mprint\u001b[0m\u001b[1;33m(\u001b[0m\u001b[1;36m0\u001b[0m \u001b[1;32min\u001b[0m \u001b[0mmon_set\u001b[0m\u001b[1;33m)\u001b[0m\u001b[1;33m\u001b[0m\u001b[1;33m\u001b[0m\u001b[0m\n\u001b[0;32m      3\u001b[0m \u001b[0mprint\u001b[0m\u001b[1;33m(\u001b[0m\u001b[0msum\u001b[0m\u001b[1;33m(\u001b[0m\u001b[0mmon_set\u001b[0m\u001b[1;33m)\u001b[0m\u001b[1;33m)\u001b[0m\u001b[1;33m\u001b[0m\u001b[1;33m\u001b[0m\u001b[0m\n\u001b[1;32m----> 4\u001b[1;33m \u001b[0mprint\u001b[0m\u001b[1;33m(\u001b[0m\u001b[0mmon_set\u001b[0m\u001b[1;33m[\u001b[0m\u001b[1;36m0\u001b[0m\u001b[1;33m]\u001b[0m\u001b[1;33m)\u001b[0m \u001b[1;31m# erreur pas d'index dans un set\u001b[0m\u001b[1;33m\u001b[0m\u001b[1;33m\u001b[0m\u001b[0m\n\u001b[0m",
      "\u001b[1;31mTypeError\u001b[0m: 'set' object is not subscriptable"
     ]
    }
   ],
   "source": [
    "print(mon_set)\n",
    "print(0 in mon_set)\n",
    "print(sum(mon_set))\n",
    "print(mon_set[0]) # erreur pas d'index dans un set"
   ]
  },
  {
   "cell_type": "code",
   "execution_count": 45,
   "metadata": {},
   "outputs": [
    {
     "data": {
      "text/plain": [
       "[0, 4, 6, 4]"
      ]
     },
     "execution_count": 45,
     "metadata": {},
     "output_type": "execute_result"
    }
   ],
   "source": [
    "ma_liste"
   ]
  },
  {
   "cell_type": "code",
   "execution_count": 46,
   "metadata": {},
   "outputs": [],
   "source": [
    "ma_liste[0] = 5"
   ]
  },
  {
   "cell_type": "code",
   "execution_count": 49,
   "metadata": {},
   "outputs": [],
   "source": [
    "ma_liste[-1] = [False, \"Bonjour\"]"
   ]
  },
  {
   "cell_type": "code",
   "execution_count": 50,
   "metadata": {},
   "outputs": [
    {
     "data": {
      "text/plain": [
       "[5, 4, 6, [False, 'Bonjour']]"
      ]
     },
     "execution_count": 50,
     "metadata": {},
     "output_type": "execute_result"
    }
   ],
   "source": [
    "ma_liste"
   ]
  },
  {
   "cell_type": "code",
   "execution_count": 51,
   "metadata": {},
   "outputs": [
    {
     "data": {
      "text/plain": [
       "[False, 'Bonjour']"
      ]
     },
     "execution_count": 51,
     "metadata": {},
     "output_type": "execute_result"
    }
   ],
   "source": [
    "ma_liste[-1]"
   ]
  },
  {
   "cell_type": "code",
   "execution_count": 52,
   "metadata": {},
   "outputs": [
    {
     "data": {
      "text/plain": [
       "4"
      ]
     },
     "execution_count": 52,
     "metadata": {},
     "output_type": "execute_result"
    }
   ],
   "source": [
    "len(ma_liste)"
   ]
  },
  {
   "cell_type": "code",
   "execution_count": 95,
   "metadata": {},
   "outputs": [
    {
     "name": "stdout",
     "output_type": "stream",
     "text": [
      "[1, 2, 4, 5, 7, 44]\n",
      "[1, 2, 4, 5, 7, 44, 8]\n",
      "[1, 2, 4, 5, 7, 44, 8, [4, 2]]\n",
      "[1, 2, 4, 5, 7, 44, 8, [4, 2], 4, 2]\n"
     ]
    }
   ],
   "source": [
    "ma_liste = [1, 2, 4, 5, 7, 44]\n",
    "print(ma_liste)\n",
    "ma_liste.append(8)\n",
    "print(ma_liste)\n",
    "ma_liste.append([4, 2])\n",
    "print(ma_liste)\n",
    "ma_liste.extend([4, 2])\n",
    "print(ma_liste)\n"
   ]
  },
  {
   "cell_type": "markdown",
   "metadata": {},
   "source": [
    "### Apparte sur les opérations"
   ]
  },
  {
   "cell_type": "code",
   "execution_count": 37,
   "metadata": {},
   "outputs": [
    {
     "ename": "TypeError",
     "evalue": "can only concatenate list (not \"int\") to list",
     "output_type": "error",
     "traceback": [
      "\u001b[1;31m---------------------------------------------------------------------------\u001b[0m",
      "\u001b[1;31mTypeError\u001b[0m                                 Traceback (most recent call last)",
      "\u001b[1;32m<ipython-input-37-21ce4b216278>\u001b[0m in \u001b[0;36m<module>\u001b[1;34m\u001b[0m\n\u001b[1;32m----> 1\u001b[1;33m \u001b[0mma_liste\u001b[0m \u001b[1;33m+\u001b[0m \u001b[1;36m2\u001b[0m\u001b[1;33m\u001b[0m\u001b[1;33m\u001b[0m\u001b[0m\n\u001b[0m",
      "\u001b[1;31mTypeError\u001b[0m: can only concatenate list (not \"int\") to list"
     ]
    }
   ],
   "source": [
    "ma_liste + 2"
   ]
  },
  {
   "cell_type": "code",
   "execution_count": 38,
   "metadata": {},
   "outputs": [
    {
     "data": {
      "text/plain": [
       "[0, 4, 6, 4, 0]"
      ]
     },
     "execution_count": 38,
     "metadata": {},
     "output_type": "execute_result"
    }
   ],
   "source": [
    "ma_liste + [0]"
   ]
  },
  {
   "cell_type": "code",
   "execution_count": 39,
   "metadata": {},
   "outputs": [
    {
     "data": {
      "text/plain": [
       "[0, 4, 6, 4, 0, 4, 6, 4]"
      ]
     },
     "execution_count": 39,
     "metadata": {},
     "output_type": "execute_result"
    }
   ],
   "source": [
    "ma_liste * 2"
   ]
  },
  {
   "cell_type": "code",
   "execution_count": 42,
   "metadata": {},
   "outputs": [
    {
     "data": {
      "text/plain": [
       "[0, 0, 0, 0, 0, 0, 0, 0, 0, 0, 1, 1, 1, 1, 1, 1, 1, 1, 1, 1]"
      ]
     },
     "execution_count": 42,
     "metadata": {},
     "output_type": "execute_result"
    }
   ],
   "source": [
    "[0] * 10 + [1] * 10"
   ]
  },
  {
   "cell_type": "code",
   "execution_count": 43,
   "metadata": {},
   "outputs": [
    {
     "data": {
      "text/plain": [
       "[0, 8, 12, 8]"
      ]
     },
     "execution_count": 43,
     "metadata": {},
     "output_type": "execute_result"
    }
   ],
   "source": [
    "res = [i * 2 for i in ma_liste] # comprehensive list\n",
    "res"
   ]
  },
  {
   "cell_type": "code",
   "execution_count": 44,
   "metadata": {},
   "outputs": [
    {
     "data": {
      "text/plain": [
       "array([2, 0, 8, 6])"
      ]
     },
     "execution_count": 44,
     "metadata": {},
     "output_type": "execute_result"
    }
   ],
   "source": [
    "import numpy as np\n",
    "\n",
    "vec = np.array([1,0,4,3])\n",
    "vec * 2"
   ]
  },
  {
   "cell_type": "markdown",
   "metadata": {},
   "source": [
    "### Reprise sur les chaines de caractères"
   ]
  },
  {
   "cell_type": "code",
   "execution_count": 53,
   "metadata": {},
   "outputs": [
    {
     "data": {
      "text/plain": [
       "'Bonjour'"
      ]
     },
     "execution_count": 53,
     "metadata": {},
     "output_type": "execute_result"
    }
   ],
   "source": [
    "ma_chaine"
   ]
  },
  {
   "cell_type": "code",
   "execution_count": 54,
   "metadata": {},
   "outputs": [
    {
     "data": {
      "text/plain": [
       "'B'"
      ]
     },
     "execution_count": 54,
     "metadata": {},
     "output_type": "execute_result"
    }
   ],
   "source": [
    "ma_chaine[0]"
   ]
  },
  {
   "cell_type": "code",
   "execution_count": 55,
   "metadata": {},
   "outputs": [
    {
     "data": {
      "text/plain": [
       "'r'"
      ]
     },
     "execution_count": 55,
     "metadata": {},
     "output_type": "execute_result"
    }
   ],
   "source": [
    "ma_chaine[-1]"
   ]
  },
  {
   "cell_type": "code",
   "execution_count": 56,
   "metadata": {},
   "outputs": [
    {
     "ename": "TypeError",
     "evalue": "'str' object does not support item assignment",
     "output_type": "error",
     "traceback": [
      "\u001b[1;31m---------------------------------------------------------------------------\u001b[0m",
      "\u001b[1;31mTypeError\u001b[0m                                 Traceback (most recent call last)",
      "\u001b[1;32m<ipython-input-56-ead1b595337d>\u001b[0m in \u001b[0;36m<module>\u001b[1;34m\u001b[0m\n\u001b[1;32m----> 1\u001b[1;33m \u001b[0mma_chaine\u001b[0m\u001b[1;33m[\u001b[0m\u001b[1;36m0\u001b[0m\u001b[1;33m]\u001b[0m \u001b[1;33m=\u001b[0m \u001b[1;34m\"C\"\u001b[0m\u001b[1;33m\u001b[0m\u001b[1;33m\u001b[0m\u001b[0m\n\u001b[0m",
      "\u001b[1;31mTypeError\u001b[0m: 'str' object does not support item assignment"
     ]
    }
   ],
   "source": [
    "ma_chaine[0] = \"C\""
   ]
  },
  {
   "cell_type": "code",
   "execution_count": 62,
   "metadata": {},
   "outputs": [
    {
     "data": {
      "text/plain": [
       "1"
      ]
     },
     "execution_count": 62,
     "metadata": {},
     "output_type": "execute_result"
    }
   ],
   "source": [
    "mon_tuple[0]"
   ]
  },
  {
   "cell_type": "code",
   "execution_count": 63,
   "metadata": {},
   "outputs": [
    {
     "ename": "TypeError",
     "evalue": "'tuple' object does not support item assignment",
     "output_type": "error",
     "traceback": [
      "\u001b[1;31m---------------------------------------------------------------------------\u001b[0m",
      "\u001b[1;31mTypeError\u001b[0m                                 Traceback (most recent call last)",
      "\u001b[1;32m<ipython-input-63-097b6a0f166c>\u001b[0m in \u001b[0;36m<module>\u001b[1;34m\u001b[0m\n\u001b[1;32m----> 1\u001b[1;33m \u001b[0mmon_tuple\u001b[0m\u001b[1;33m[\u001b[0m\u001b[1;36m0\u001b[0m\u001b[1;33m]\u001b[0m \u001b[1;33m=\u001b[0m \u001b[1;36m5\u001b[0m\u001b[1;33m\u001b[0m\u001b[1;33m\u001b[0m\u001b[0m\n\u001b[0m",
      "\u001b[1;31mTypeError\u001b[0m: 'tuple' object does not support item assignment"
     ]
    }
   ],
   "source": [
    "mon_tuple[0] = 5"
   ]
  },
  {
   "cell_type": "code",
   "execution_count": 64,
   "metadata": {},
   "outputs": [
    {
     "data": {
      "text/plain": [
       "[1, 2, 4, 5, 7, 44]"
      ]
     },
     "execution_count": 64,
     "metadata": {},
     "output_type": "execute_result"
    }
   ],
   "source": [
    "ma_liste= [1,1,1,1,2,2,4,44,4,4,5,5,5,7,7,7]\n",
    "ma_liste = list(set(ma_liste))\n",
    "ma_liste"
   ]
  },
  {
   "cell_type": "markdown",
   "metadata": {},
   "source": [
    "## Parenthèse sur les cast"
   ]
  },
  {
   "cell_type": "code",
   "execution_count": 65,
   "metadata": {},
   "outputs": [
    {
     "data": {
      "text/plain": [
       "6"
      ]
     },
     "execution_count": 65,
     "metadata": {},
     "output_type": "execute_result"
    }
   ],
   "source": [
    "int(6.4)"
   ]
  },
  {
   "cell_type": "code",
   "execution_count": 66,
   "metadata": {},
   "outputs": [
    {
     "data": {
      "text/plain": [
       "'6.4'"
      ]
     },
     "execution_count": 66,
     "metadata": {},
     "output_type": "execute_result"
    }
   ],
   "source": [
    "str(6.4)"
   ]
  },
  {
   "cell_type": "markdown",
   "metadata": {},
   "source": [
    "### Retour sur les dicos"
   ]
  },
  {
   "cell_type": "code",
   "execution_count": 87,
   "metadata": {},
   "outputs": [],
   "source": [
    "mon_dico = {\"prenom\": \"Agathe\", \"nom\": \"Bernier\", \"a_mange\": False}"
   ]
  },
  {
   "cell_type": "code",
   "execution_count": 88,
   "metadata": {},
   "outputs": [],
   "source": [
    "mon_dico[\"prenom\"] = \"Agathe\""
   ]
  },
  {
   "cell_type": "code",
   "execution_count": 89,
   "metadata": {},
   "outputs": [],
   "source": [
    "mon_dico[\"is_underage\"] = False"
   ]
  },
  {
   "cell_type": "code",
   "execution_count": 90,
   "metadata": {},
   "outputs": [],
   "source": [
    "mon_dico[\"notes\"] = [12,18,20,16]"
   ]
  },
  {
   "cell_type": "code",
   "execution_count": 91,
   "metadata": {},
   "outputs": [
    {
     "data": {
      "text/plain": [
       "{'prenom': 'Agathe',\n",
       " 'nom': 'Bernier',\n",
       " 'a_mange': False,\n",
       " 'is_underage': False,\n",
       " 'notes': [12, 18, 20, 16]}"
      ]
     },
     "execution_count": 91,
     "metadata": {},
     "output_type": "execute_result"
    }
   ],
   "source": [
    "mon_dico"
   ]
  },
  {
   "cell_type": "markdown",
   "metadata": {},
   "source": [
    "## Les boucles"
   ]
  },
  {
   "cell_type": "code",
   "execution_count": 97,
   "metadata": {},
   "outputs": [
    {
     "name": "stdout",
     "output_type": "stream",
     "text": [
      "0\n",
      "boucle\n",
      "1\n",
      "boucle\n",
      "2\n",
      "boucle\n",
      "3\n",
      "boucle\n",
      "4\n",
      "boucle\n",
      "5\n",
      "boucle\n",
      "6\n",
      "boucle\n",
      "7\n",
      "boucle\n",
      "8\n",
      "boucle\n",
      "9\n",
      "boucle\n",
      "fin\n"
     ]
    }
   ],
   "source": [
    "i = 0\n",
    "while i < 10:\n",
    "    print(i)\n",
    "    i += 1\n",
    "    print(\"boucle\")\n",
    "print(\"fin\")"
   ]
  },
  {
   "cell_type": "code",
   "execution_count": 99,
   "metadata": {},
   "outputs": [
    {
     "name": "stdout",
     "output_type": "stream",
     "text": [
      "1\n",
      "boucle\n",
      "2\n",
      "boucle\n",
      "4\n",
      "boucle\n",
      "5\n",
      "boucle\n",
      "7\n",
      "boucle\n",
      "44\n",
      "boucle\n",
      "8\n",
      "boucle\n",
      "fin\n"
     ]
    }
   ],
   "source": [
    "ma_liste = [1, 2, 4, 5, 7, 44, 8]\n",
    "\n",
    "for i in ma_liste:\n",
    "    print(i)\n",
    "    print(\"boucle\")\n",
    "print(\"fin\")"
   ]
  },
  {
   "cell_type": "code",
   "execution_count": 100,
   "metadata": {},
   "outputs": [
    {
     "name": "stdout",
     "output_type": "stream",
     "text": [
      "0\n",
      "boucle\n",
      "1\n",
      "boucle\n",
      "2\n",
      "boucle\n",
      "3\n",
      "boucle\n",
      "4\n",
      "boucle\n",
      "5\n",
      "boucle\n",
      "6\n",
      "boucle\n",
      "7\n",
      "boucle\n",
      "8\n",
      "boucle\n",
      "9\n",
      "boucle\n",
      "fin\n"
     ]
    }
   ],
   "source": [
    "for i in range(10):\n",
    "    print(i)\n",
    "    print(\"boucle\")\n",
    "print(\"fin\")"
   ]
  },
  {
   "cell_type": "code",
   "execution_count": 107,
   "metadata": {},
   "outputs": [
    {
     "name": "stdout",
     "output_type": "stream",
     "text": [
      "1\n",
      "8\n",
      "boucle\n",
      "2\n",
      "44\n",
      "boucle\n",
      "4\n",
      "7\n",
      "boucle\n",
      "5\n",
      "5\n",
      "boucle\n",
      "7\n",
      "4\n",
      "boucle\n",
      "44\n",
      "2\n",
      "boucle\n",
      "8\n",
      "1\n",
      "boucle\n",
      "fin\n"
     ]
    }
   ],
   "source": [
    "ma_liste = [1, 2, 4, 5, 7, 44, 8]\n",
    "ma_liste2 = ma_liste[::-1]\n",
    "\n",
    "for i in range(len(ma_liste)):\n",
    "    print(ma_liste[i])\n",
    "    print(ma_liste2[i])\n",
    "    print(\"boucle\")\n",
    "print(\"fin\")"
   ]
  },
  {
   "cell_type": "markdown",
   "metadata": {},
   "source": [
    "## Structure conditionnelle"
   ]
  },
  {
   "cell_type": "code",
   "execution_count": 109,
   "metadata": {},
   "outputs": [
    {
     "name": "stdout",
     "output_type": "stream",
     "text": [
      "mineur\n"
     ]
    }
   ],
   "source": [
    "age = 12\n",
    "\n",
    "if age > 18:\n",
    "    print(\"majeur\")\n",
    "elif age == 18:\n",
    "    print(\"passe ton permis\")\n",
    "else:\n",
    "    print(\"mineur\")"
   ]
  },
  {
   "cell_type": "markdown",
   "metadata": {},
   "source": [
    "## Fizz buzz\n",
    "\n",
    "Pour tous les entiers de 0 à 100, on affiche :\n",
    "* \"fizz\" si l'entier est divisible par 3\n",
    "* \"buzz\" si l'entier est divisible par 5\n",
    "* \"bazz\" si l'entier est divisible par 3 et 5\n",
    "* sinon on affiche l'entier\n",
    "\n",
    "#### Résultat:\n",
    "\n",
    "* bazz\n",
    "* 1\n",
    "* 2\n",
    "* fizz\n",
    "* 4\n",
    "* buzz\n",
    "..."
   ]
  },
  {
   "cell_type": "code",
   "execution_count": 112,
   "metadata": {},
   "outputs": [
    {
     "data": {
      "text/plain": [
       "True"
      ]
     },
     "execution_count": 112,
     "metadata": {},
     "output_type": "execute_result"
    }
   ],
   "source": [
    "i = 15\n",
    "\n",
    "i % 3 == 0"
   ]
  },
  {
   "cell_type": "code",
   "execution_count": 113,
   "metadata": {},
   "outputs": [
    {
     "name": "stdout",
     "output_type": "stream",
     "text": [
      "bazz\n",
      "1\n",
      "2\n",
      "fizz\n",
      "4\n",
      "buzz\n",
      "fizz\n",
      "7\n",
      "8\n",
      "fizz\n",
      "buzz\n",
      "11\n",
      "fizz\n",
      "13\n",
      "14\n",
      "bazz\n",
      "16\n",
      "17\n",
      "fizz\n",
      "19\n",
      "buzz\n",
      "fizz\n",
      "22\n",
      "23\n",
      "fizz\n",
      "buzz\n",
      "26\n",
      "fizz\n",
      "28\n",
      "29\n",
      "bazz\n",
      "31\n",
      "32\n",
      "fizz\n",
      "34\n",
      "buzz\n",
      "fizz\n",
      "37\n",
      "38\n",
      "fizz\n",
      "buzz\n",
      "41\n",
      "fizz\n",
      "43\n",
      "44\n",
      "bazz\n",
      "46\n",
      "47\n",
      "fizz\n",
      "49\n",
      "buzz\n",
      "fizz\n",
      "52\n",
      "53\n",
      "fizz\n",
      "buzz\n",
      "56\n",
      "fizz\n",
      "58\n",
      "59\n",
      "bazz\n",
      "61\n",
      "62\n",
      "fizz\n",
      "64\n",
      "buzz\n",
      "fizz\n",
      "67\n",
      "68\n",
      "fizz\n",
      "buzz\n",
      "71\n",
      "fizz\n",
      "73\n",
      "74\n",
      "bazz\n",
      "76\n",
      "77\n",
      "fizz\n",
      "79\n",
      "buzz\n",
      "fizz\n",
      "82\n",
      "83\n",
      "fizz\n",
      "buzz\n",
      "86\n",
      "fizz\n",
      "88\n",
      "89\n",
      "bazz\n",
      "91\n",
      "92\n",
      "fizz\n",
      "94\n",
      "buzz\n",
      "fizz\n",
      "97\n",
      "98\n",
      "fizz\n",
      "buzz\n"
     ]
    }
   ],
   "source": [
    "for i in range(101):\n",
    "    if i % 15 == 0:\n",
    "        print(\"bazz\")\n",
    "    elif i % 3 == 0:\n",
    "        print(\"fizz\")\n",
    "    elif i % 5 == 0:\n",
    "        print(\"buzz\")\n",
    "    else:\n",
    "        print(i)\n",
    "        \n",
    "        "
   ]
  },
  {
   "cell_type": "markdown",
   "metadata": {},
   "source": [
    "### Slicing\n",
    "\n",
    "### Ternaire\n",
    "\n",
    "### Comprehensive list\n",
    "\n",
    "### F string et input"
   ]
  },
  {
   "cell_type": "code",
   "execution_count": 114,
   "metadata": {},
   "outputs": [
    {
     "data": {
      "text/plain": [
       "[1, 2, 4, 5, 7, 44, 8]"
      ]
     },
     "execution_count": 114,
     "metadata": {},
     "output_type": "execute_result"
    }
   ],
   "source": [
    "ma_liste"
   ]
  },
  {
   "cell_type": "code",
   "execution_count": 117,
   "metadata": {},
   "outputs": [
    {
     "data": {
      "text/plain": [
       "[1, 2, 4]"
      ]
     },
     "execution_count": 117,
     "metadata": {},
     "output_type": "execute_result"
    }
   ],
   "source": [
    "ma_liste[0:3] # debut : fin (exclus)"
   ]
  },
  {
   "cell_type": "code",
   "execution_count": 118,
   "metadata": {},
   "outputs": [
    {
     "data": {
      "text/plain": [
       "[2, 4, 5]"
      ]
     },
     "execution_count": 118,
     "metadata": {},
     "output_type": "execute_result"
    }
   ],
   "source": [
    "ma_liste[1:4]"
   ]
  },
  {
   "cell_type": "code",
   "execution_count": 119,
   "metadata": {},
   "outputs": [
    {
     "data": {
      "text/plain": [
       "[1, 2, 4, 5]"
      ]
     },
     "execution_count": 119,
     "metadata": {},
     "output_type": "execute_result"
    }
   ],
   "source": [
    "ma_liste[:4] # premier element par defaut"
   ]
  },
  {
   "cell_type": "code",
   "execution_count": 120,
   "metadata": {},
   "outputs": [
    {
     "data": {
      "text/plain": [
       "[4, 5, 7, 44, 8]"
      ]
     },
     "execution_count": 120,
     "metadata": {},
     "output_type": "execute_result"
    }
   ],
   "source": [
    "ma_liste[2:] # dernier element par defaut"
   ]
  },
  {
   "cell_type": "code",
   "execution_count": 121,
   "metadata": {},
   "outputs": [
    {
     "data": {
      "text/plain": [
       "[1, 2, 4, 5, 7, 44, 8]"
      ]
     },
     "execution_count": 121,
     "metadata": {},
     "output_type": "execute_result"
    }
   ],
   "source": [
    "ma_liste[:]"
   ]
  },
  {
   "cell_type": "code",
   "execution_count": 122,
   "metadata": {},
   "outputs": [
    {
     "data": {
      "text/plain": [
       "[1, 4, 7]"
      ]
     },
     "execution_count": 122,
     "metadata": {},
     "output_type": "execute_result"
    }
   ],
   "source": [
    "ma_liste[0:5:2] # pas de 2"
   ]
  },
  {
   "cell_type": "code",
   "execution_count": 123,
   "metadata": {},
   "outputs": [
    {
     "data": {
      "text/plain": [
       "[1, 2, 4, 5, 7, 44]"
      ]
     },
     "execution_count": 123,
     "metadata": {},
     "output_type": "execute_result"
    }
   ],
   "source": [
    "ma_liste[:-1]"
   ]
  },
  {
   "cell_type": "code",
   "execution_count": 124,
   "metadata": {},
   "outputs": [
    {
     "data": {
      "text/plain": [
       "[8, 44, 7, 5, 4, 2, 1]"
      ]
     },
     "execution_count": 124,
     "metadata": {},
     "output_type": "execute_result"
    }
   ],
   "source": [
    "ma_liste[::-1]"
   ]
  },
  {
   "cell_type": "code",
   "execution_count": 125,
   "metadata": {},
   "outputs": [],
   "source": [
    "# deuxième en partant de la fin au deuxième deux par deux\n",
    "# 44, 5, 2"
   ]
  },
  {
   "cell_type": "code",
   "execution_count": 126,
   "metadata": {},
   "outputs": [
    {
     "data": {
      "text/plain": [
       "[44, 5, 2]"
      ]
     },
     "execution_count": 126,
     "metadata": {},
     "output_type": "execute_result"
    }
   ],
   "source": [
    "ma_liste[-2:0:-2]"
   ]
  },
  {
   "cell_type": "code",
   "execution_count": 127,
   "metadata": {},
   "outputs": [
    {
     "name": "stdout",
     "output_type": "stream",
     "text": [
      "majeur\n"
     ]
    }
   ],
   "source": [
    "age = 36\n",
    "\n",
    "# Avec un if\n",
    "if age < 18:\n",
    "    is_underage = True\n",
    "else:\n",
    "    is_underage = False\n",
    "    \n",
    "# Avec une ternaire\n",
    "is_underage = True if age < 18 and age > 46 else False\n",
    "print(\"mineur\" if age < 18 else \"majeur\")\n",
    "\n",
    "# Juste la condition\n",
    "is_underage = age < 18"
   ]
  },
  {
   "cell_type": "code",
   "execution_count": 128,
   "metadata": {},
   "outputs": [
    {
     "data": {
      "text/plain": [
       "[1, 2, 4, 5, 7, 44, 8]"
      ]
     },
     "execution_count": 128,
     "metadata": {},
     "output_type": "execute_result"
    }
   ],
   "source": [
    "ma_liste"
   ]
  },
  {
   "cell_type": "code",
   "execution_count": 131,
   "metadata": {},
   "outputs": [
    {
     "data": {
      "text/plain": [
       "[False, False, False, True, True, True, True]"
      ]
     },
     "execution_count": 131,
     "metadata": {},
     "output_type": "execute_result"
    }
   ],
   "source": [
    "autre_liste = [(i > 4) for i in ma_liste]\n",
    "autre_liste"
   ]
  },
  {
   "cell_type": "code",
   "execution_count": 132,
   "metadata": {},
   "outputs": [
    {
     "data": {
      "text/plain": [
       "True"
      ]
     },
     "execution_count": 132,
     "metadata": {},
     "output_type": "execute_result"
    }
   ],
   "source": [
    "a= 12\n",
    "a < 18"
   ]
  },
  {
   "cell_type": "code",
   "execution_count": 135,
   "metadata": {},
   "outputs": [],
   "source": [
    "import os\n",
    "\n",
    "liste_fichiers = os.listdir('../')"
   ]
  },
  {
   "cell_type": "code",
   "execution_count": 139,
   "metadata": {},
   "outputs": [
    {
     "data": {
      "text/plain": [
       "['.ipyn',\n",
       " 'Bank ',\n",
       " 'base.',\n",
       " 'basep',\n",
       " 'Bokeh',\n",
       " 'bokeh',\n",
       " 'brain',\n",
       " 'CHART',\n",
       " 'compl',\n",
       " 'Cours',\n",
       " 'cours',\n",
       " 'cours',\n",
       " 'cours',\n",
       " 'cours',\n",
       " 'cours',\n",
       " 'cours',\n",
       " 'cours',\n",
       " 'Cours',\n",
       " 'cours',\n",
       " 'cours',\n",
       " 'Cpyth',\n",
       " 'Cpyth',\n",
       " 'Deep ',\n",
       " 'dicho',\n",
       " 'egili',\n",
       " 'egili',\n",
       " 'Exerc',\n",
       " 'Forma',\n",
       " 'Gener',\n",
       " 'gradi',\n",
       " 'image',\n",
       " 'Intro',\n",
       " 'Intro',\n",
       " 'Intro',\n",
       " 'Intro',\n",
       " 'Intro',\n",
       " 'Intro',\n",
       " 'Intro',\n",
       " 'Intro',\n",
       " 'Intro',\n",
       " 'Intro',\n",
       " 'Intro',\n",
       " 'Jour2',\n",
       " 'lena.',\n",
       " 'main.',\n",
       " 'main.',\n",
       " 'malib',\n",
       " 'monmo',\n",
       " 'MonPa',\n",
       " 'neura',\n",
       " 'numRa',\n",
       " 'orsys',\n",
       " 'overf',\n",
       " 'packi',\n",
       " 'Palin',\n",
       " 'Panda',\n",
       " 'panda',\n",
       " 'plan.',\n",
       " 'postg',\n",
       " 'pyqt5',\n",
       " 'pyqt5',\n",
       " 'pyqt5',\n",
       " 'pyqt5',\n",
       " 'pyqtF',\n",
       " 'Pytho',\n",
       " 'Pytho',\n",
       " 'Pytho',\n",
       " 'pytho',\n",
       " 'qtTes',\n",
       " 'Sciki',\n",
       " 'serve',\n",
       " 'serve',\n",
       " 'sound',\n",
       " 'stati',\n",
       " 'techn',\n",
       " 'templ',\n",
       " 'test.',\n",
       " 'testC',\n",
       " 'texte',\n",
       " 'titan',\n",
       " 'train',\n",
       " 'unpac',\n",
       " 'Untit',\n",
       " 'Untit',\n",
       " 'Untit',\n",
       " 'Untit',\n",
       " 'Untit',\n",
       " 'Untit',\n",
       " '~$For',\n",
       " '~$Pyt',\n",
       " '~$Pyt']"
      ]
     },
     "execution_count": 139,
     "metadata": {},
     "output_type": "execute_result"
    }
   ],
   "source": [
    "# récupérer les 5 premières lettres de chaque fichier\n",
    "[file_name[:5] for file_name in liste_fichiers]"
   ]
  },
  {
   "cell_type": "code",
   "execution_count": 141,
   "metadata": {},
   "outputs": [
    {
     "data": {
      "text/plain": [
       "['Bank Example.ipynb',\n",
       " 'basepoo.ipynb',\n",
       " 'Bokeh initiation.ipynb',\n",
       " 'Cours1-egilia.ipynb',\n",
       " 'egilia-class.ipynb',\n",
       " 'ExerciceVoiture.ipynb',\n",
       " 'GenerateData.ipynb',\n",
       " 'IntroAriane.ipynb',\n",
       " 'Jour2-egilia.ipynb',\n",
       " 'Palindrome.ipynb',\n",
       " 'PandasExos.ipynb',\n",
       " 'postgreIntroduction.ipynb',\n",
       " 'pyqt5.ipynb',\n",
       " 'ScikitLearn.ipynb',\n",
       " 'Untitled.ipynb',\n",
       " 'Untitled1.ipynb',\n",
       " 'Untitled2.ipynb']"
      ]
     },
     "execution_count": 141,
     "metadata": {},
     "output_type": "execute_result"
    }
   ],
   "source": [
    "[file_name for file_name in liste_fichiers if file_name[-3:] == \"ynb\"]"
   ]
  },
  {
   "cell_type": "code",
   "execution_count": 143,
   "metadata": {},
   "outputs": [
    {
     "data": {
      "text/plain": [
       "<generator object <genexpr> at 0x000002A1CBCDCD68>"
      ]
     },
     "execution_count": 143,
     "metadata": {},
     "output_type": "execute_result"
    }
   ],
   "source": [
    "(i * 2 for i in ma_liste)"
   ]
  },
  {
   "cell_type": "code",
   "execution_count": 147,
   "metadata": {},
   "outputs": [
    {
     "data": {
      "text/plain": [
       "range(0, 10)"
      ]
     },
     "execution_count": 147,
     "metadata": {},
     "output_type": "execute_result"
    }
   ],
   "source": [
    "# Python 2\n",
    "range(10) # Liste d'éléments\n",
    "\n",
    "#Python 3\n",
    "range(10) # génératrice\n"
   ]
  },
  {
   "cell_type": "code",
   "execution_count": 159,
   "metadata": {},
   "outputs": [
    {
     "name": "stdout",
     "output_type": "stream",
     "text": [
      "Quel est votre nom ?Mickael\n",
      "Quel est votre age ?42\n",
      "Mickael\n"
     ]
    },
    {
     "data": {
      "text/plain": [
       "42"
      ]
     },
     "execution_count": 159,
     "metadata": {},
     "output_type": "execute_result"
    }
   ],
   "source": [
    "# comprehensive list , generatrice / range ?\n",
    "# Fstring input\n",
    "\n",
    "nom = input(\"Quel est votre nom ?\")\n",
    "age = int(input(\"Quel est votre age ?\")) # Caster l'input pour avoir un entier\n",
    "print(nom)\n",
    "age"
   ]
  },
  {
   "cell_type": "code",
   "execution_count": 157,
   "metadata": {},
   "outputs": [
    {
     "name": "stdout",
     "output_type": "stream",
     "text": [
      "Bonjour Mickael. Je m'appelle Marie. J'ai 36 ans\n",
      "Bonjour Mickael. Je m'appelle Marie. J'ai 36 ans\n"
     ]
    }
   ],
   "source": [
    "# age = 36\n",
    "print(\"Bonjour \" + nom + \". Je m'appelle Marie. J'ai \" + str(age) + \" ans\")\n",
    "\n",
    "print(f\"Bonjour {nom}. Je m'appelle Marie. J'ai {age} ans\") # f avant les guillemets et accolades"
   ]
  },
  {
   "cell_type": "markdown",
   "metadata": {},
   "source": [
    "### Exercice \n",
    "\n",
    "Demander Le nom et le prénom de 2 personnes\n",
    "\n",
    "Afficher une conversation :\n",
    "\n",
    "\"Bonjour, je m'appelle {nom1}. J'ai {age1} ans. Et je suis mineur/majeur\"\n",
    "\n",
    "\"Bonjour {nom1}, je m'appelle {nom2}. J'ai {age2} ans. Et je suis mineur/majeur\"\n",
    "\n",
    "\n",
    "### Bonus \n",
    "\n",
    "Avec une boucle \"while\" et une question \"ajouter une personne ? Y/N\".\n",
    "\n",
    "\"Bonjour, je m'appelle {nom1}. J'ai {age1} ans. Et je suis mineur/majeur\"\n",
    "\n",
    "\"Bonjour {nom i-1}, je m'appelle {nom i}. J'ai {age i} ans. Et je suis mineur/majeur\"\n"
   ]
  },
  {
   "cell_type": "code",
   "execution_count": 160,
   "metadata": {},
   "outputs": [
    {
     "name": "stdout",
     "output_type": "stream",
     "text": [
      "Quel est le votre nom ?Ariane\n",
      "Quel est votre age ?32\n",
      "Quel est le votre nom ?Mathieur\n",
      "Quel est votre age ?16\n",
      "Bonjour, je m'appelle Ariane. J'ai 32 ans. Et je suis majeur\n",
      "Bonjour Ariane, je m'appelle Mathieur. J'ai 16 ans. Et je suis mineur\n"
     ]
    }
   ],
   "source": [
    "nom1 = input(\"Quel est le votre nom ?\")\n",
    "age1 = int(input(\"Quel est votre age ?\"))\n",
    "\n",
    "nom2 = input(\"Quel est le votre nom ?\")\n",
    "age2 = int(input(\"Quel est votre age ?\"))\n",
    "\n",
    "if age1 > 18:\n",
    "    mineur1 = \"majeur\"\n",
    "else:\n",
    "    mineur1 = \"mineur\"\n",
    "\n",
    "if age2 > 18:\n",
    "    mineur2 = \"majeur\"\n",
    "else:\n",
    "    mineur2 = \"mineur\"\n",
    "\n",
    "    \n",
    "print(f\"Bonjour, je m'appelle {nom1}. J'ai {age1} ans. Et je suis {mineur1}\")\n",
    "\n",
    "print(f\"Bonjour {nom1}, je m'appelle {nom2}. J'ai {age2} ans. Et je suis {mineur2}\")"
   ]
  },
  {
   "cell_type": "code",
   "execution_count": 161,
   "metadata": {},
   "outputs": [
    {
     "name": "stdout",
     "output_type": "stream",
     "text": [
      "Quel est le votre nom ?Martin\n",
      "Quel est votre age ?28\n",
      "Quel est le votre nom ?Eloise\n",
      "Quel est votre age ?17\n",
      "Bonjour, je m'appelle Martin. J'ai 28 ans. Et je suis majeur\n",
      "Bonjour Martin, je m'appelle Eloise. J'ai 17 ans. Et je suis mineur\n"
     ]
    }
   ],
   "source": [
    "nom1 = input(\"Quel est le votre nom ?\")\n",
    "age1 = int(input(\"Quel est votre age ?\"))\n",
    "\n",
    "nom2 = input(\"Quel est le votre nom ?\")\n",
    "age2 = int(input(\"Quel est votre age ?\"))\n",
    "\n",
    "mineur1 = \"majeur\" if age1 > 18 else \"mineur\"\n",
    "mineur2 = \"majeur\" if age2 > 18 else \"mineur\"\n",
    "\n",
    "    \n",
    "print(f\"Bonjour, je m'appelle {nom1}. J'ai {age1} ans. Et je suis {mineur1}\")\n",
    "\n",
    "print(f\"Bonjour {nom1}, je m'appelle {nom2}. J'ai {age2} ans. Et je suis {mineur2}\")"
   ]
  },
  {
   "cell_type": "code",
   "execution_count": 162,
   "metadata": {},
   "outputs": [
    {
     "name": "stdout",
     "output_type": "stream",
     "text": [
      "Quel est le votre nom ?M\n",
      "Quel est le votre age ?16\n",
      "Bonjour, je m'appelle M. J'ai 16 ans. Et je suis mineur\n",
      "ajouter une personne ? Y/NY\n",
      "Quel est le votre nom ?L\n",
      "Quel est le votre age ?32\n",
      "Bonjour M, je m'appelle L. J'ai 32 ans. Et je suis majeur\n",
      "ajouter une personne ? Y/NY\n",
      "Quel est le votre nom ?Q\n",
      "Quel est le votre age ?24\n",
      "Bonjour L, je m'appelle Q. J'ai 24 ans. Et je suis majeur\n",
      "ajouter une personne ? Y/NN\n"
     ]
    }
   ],
   "source": [
    "liste_noms = []\n",
    "liste_ages = []\n",
    "\n",
    "continuer = \"Y\"\n",
    "\n",
    "while continuer == \"Y\":\n",
    "    liste_noms.append(input(\"Quel est le votre nom ?\"))\n",
    "    liste_ages.append(int(input(\"Quel est le votre age ?\")))\n",
    "\n",
    "    if len(liste_ages) == 1:\n",
    "        mineur = \"majeur\" if liste_ages[0] > 18 else \"mineur\"\n",
    "        print(f\"Bonjour, je m'appelle {liste_noms[0]}. J'ai {liste_ages[0]} ans. Et je suis {mineur}\")\n",
    "    elif len(liste_ages) > 1:\n",
    "        mineur = \"majeur\" if liste_ages[-1] > 18 else \"mineur\"\n",
    "        print(f\"Bonjour {liste_noms[-2]}, je m'appelle {liste_noms[-1]}. J'ai {liste_ages[-1]} ans. Et je suis {mineur}\")\n",
    "    continuer = input(\"ajouter une personne ? Y/N\")\n",
    "    "
   ]
  },
  {
   "cell_type": "code",
   "execution_count": 164,
   "metadata": {},
   "outputs": [
    {
     "name": "stdout",
     "output_type": "stream",
     "text": [
      "Quel est le votre nom ?M\n",
      "Quel est le votre age ?28\n",
      "Bonjour, je m'appelle M. J'ai 28 ans. Et je suis majeur\n",
      "ajouter une personne ? Y/NY\n",
      "Quel est le votre nom ?A\n",
      "Quel est le votre age ?16\n",
      "Bonjour M, je m'appelle A. J'ai 16 ans. Et je suis mineur\n",
      "ajouter une personne ? Y/NN\n"
     ]
    }
   ],
   "source": [
    "continuer = True\n",
    "nom_prec = None\n",
    "\n",
    "while continuer:\n",
    "    nom = input(\"Quel est le votre nom ?\")\n",
    "    age = int(input(\"Quel est le votre age ?\"))\n",
    "\n",
    "    if nom_prec == None:\n",
    "        mineur = \"majeur\" if age > 18 else \"mineur\"\n",
    "        print(f\"Bonjour, je m'appelle {nom}. J'ai {age} ans. Et je suis {mineur}\")\n",
    "    else:\n",
    "        mineur = \"majeur\" if age > 18 else \"mineur\"\n",
    "        print(f\"Bonjour {nom_prec}, je m'appelle {nom}. J'ai {age} ans. Et je suis {mineur}\")\n",
    "    continuer = input(\"ajouter une personne ? Y/N\") == \"Y\"\n",
    "    nom_prec = nom\n",
    "    "
   ]
  },
  {
   "cell_type": "markdown",
   "metadata": {},
   "source": [
    "## Nombre mystère\n",
    "\n",
    "\n",
    "1- L'ordinateur génère un nombre mystère. On doit essayer de le deviner en faisant des proposition (input(\"devinez le nombre\")).\n",
    "A ce moment, l'ordinateur va nous répondre plus petit ou plus grand. On fera une nouvelle proposition jusqu'à la victoire.\n",
    "A la fin vous pouvez afficher \"Victoire\" !\n",
    "\n",
    "2 - Nous avons un nombre mystère et l'ordinateur nous fait des propositions. On peut répondre trop petit (P), trop grand (G) ou égal (E).  \n"
   ]
  },
  {
   "cell_type": "code",
   "execution_count": 172,
   "metadata": {},
   "outputs": [
    {
     "name": "stdout",
     "output_type": "stream",
     "text": [
      "Devinez le nombre... \n",
      "50\n",
      "trop grand\n",
      "Devinez le nombre... \n",
      "25\n",
      "trop petit\n",
      "Devinez le nombre... \n",
      "302\n",
      "trop grand\n",
      "Devinez le nombre... \n",
      "32\n",
      "trop petit\n",
      "Devinez le nombre... \n",
      "28\n",
      "trop petit\n",
      "Devinez le nombre... \n",
      "26\n",
      "trop petit\n",
      "Devinez le nombre... \n",
      "36\n",
      "trop petit\n",
      "Devinez le nombre... \n",
      "40\n",
      "trop grand\n",
      "Devinez le nombre... \n",
      "38\n",
      "Victoire\n"
     ]
    }
   ],
   "source": [
    "from random import randint\n",
    "\n",
    "secret = randint(0,100)\n",
    "proposition = int(input(\"Devinez le nombre... \\n\"))\n",
    "\n",
    "while proposition != secret:\n",
    "    if proposition > secret:\n",
    "        print(\"trop grand\")\n",
    "    elif proposition < secret:\n",
    "        print(\"trop petit\")\n",
    "    proposition = int(input(\"Devinez le nombre... \\n\"))\n",
    "    \n",
    "print(\"Victoire\")\n"
   ]
  },
  {
   "cell_type": "code",
   "execution_count": 173,
   "metadata": {},
   "outputs": [
    {
     "name": "stdout",
     "output_type": "stream",
     "text": [
      "Est-ce que c'est 50 ? P/G/EG\n",
      "Est-ce que c'est 25 ? P/G/EP\n",
      "Est-ce que c'est 37 ? P/G/EG\n",
      "Est-ce que c'est 31 ? P/G/EP\n",
      "Est-ce que c'est 34 ? P/G/EG\n",
      "Est-ce que c'est 32 ? P/G/EE\n",
      "Victoire\n"
     ]
    }
   ],
   "source": [
    "borne_min = 0\n",
    "borne_max = 101\n",
    "proposition = (borne_max + borne_min) // 2\n",
    "\n",
    "reponse = None\n",
    "\n",
    "while reponse != \"E\":\n",
    "    reponse = input(f\"Est-ce que c'est {proposition} ? P/G/E\")\n",
    "    if reponse == \"P\":\n",
    "        # chercher proposition entre 0 et ancienne proposition\n",
    "        borne_min = proposition\n",
    "    elif reponse == \"G\":\n",
    "        # chercher proposition entre ancienne proposition et 100\n",
    "        borne_max = proposition\n",
    "    proposition = (borne_max + borne_min) // 2\n",
    "\n",
    "print(\"Victoire\")\n",
    "    "
   ]
  },
  {
   "cell_type": "code",
   "execution_count": 175,
   "metadata": {},
   "outputs": [
    {
     "name": "stdout",
     "output_type": "stream",
     "text": [
      "Est-ce que c'est 18 ? P/G/EP\n",
      "Est-ce que c'est 98 ? P/G/EG\n",
      "Est-ce que c'est 19 ? P/G/EP\n",
      "Est-ce que c'est 49 ? P/G/EP\n",
      "Est-ce que c'est 74 ? P/G/EG\n",
      "Est-ce que c'est 53 ? P/G/EP\n",
      "Est-ce que c'est 64 ? P/G/EE\n",
      "Victoire\n"
     ]
    }
   ],
   "source": [
    "borne_min = 0\n",
    "borne_max = 100\n",
    "proposition = randint(0,100)\n",
    "\n",
    "reponse = None\n",
    "\n",
    "while reponse != \"E\":\n",
    "    reponse = input(f\"Est-ce que c'est {proposition} ? P/G/E\")\n",
    "    if reponse == \"P\":\n",
    "        # chercher proposition entre 0 et ancienne proposition\n",
    "        borne_min = proposition + 1\n",
    "    elif reponse == \"G\":\n",
    "        # chercher proposition entre ancienne proposition et 100\n",
    "        borne_max = proposition - 1\n",
    "    proposition = randint(borne_min, borne_max)\n",
    "\n",
    "print(\"Victoire\")\n",
    "    "
   ]
  },
  {
   "cell_type": "code",
   "execution_count": 178,
   "metadata": {},
   "outputs": [
    {
     "data": {
      "text/plain": [
       "[1, 2, 4, 5, 7, 8, 44]"
      ]
     },
     "execution_count": 178,
     "metadata": {},
     "output_type": "execute_result"
    }
   ],
   "source": [
    "ma_liste.sort()\n",
    "ma_liste"
   ]
  },
  {
   "cell_type": "markdown",
   "metadata": {},
   "source": [
    "## Tri bulle"
   ]
  },
  {
   "cell_type": "code",
   "execution_count": 181,
   "metadata": {},
   "outputs": [
    {
     "name": "stdout",
     "output_type": "stream",
     "text": [
      "[1, 2, 5, 6, 7, 8, 14]\n"
     ]
    }
   ],
   "source": [
    "ma_liste = [14, 2, 6, 5, 8, 7, 1]\n",
    "\n",
    "for j in range(len(ma_liste) - 1):\n",
    "    for i in range(len(ma_liste) - 1):\n",
    "        if ma_liste[i] > ma_liste[i+1]:\n",
    "            # échanger les valeurs\n",
    "            tmp = ma_liste[i]\n",
    "            ma_liste[i] = ma_liste[i+1]\n",
    "            ma_liste[i+1] = tmp\n",
    "            \n",
    "\n",
    "\n",
    "print(ma_liste)"
   ]
  },
  {
   "cell_type": "code",
   "execution_count": 182,
   "metadata": {},
   "outputs": [
    {
     "name": "stdout",
     "output_type": "stream",
     "text": [
      "[1, 2, 5, 6, 7, 8, 14]\n"
     ]
    }
   ],
   "source": [
    "ma_liste = [14, 2, 6, 5, 8, 7, 1]\n",
    "\n",
    "for j in range(len(ma_liste) - 1):\n",
    "    for i in range(len(ma_liste) - 1):\n",
    "        if ma_liste[i] > ma_liste[i+1]:\n",
    "            # échanger les valeurs\n",
    "            ma_liste[i], ma_liste[i + 1] = ma_liste[i + 1], ma_liste[i]\n",
    "            \n",
    "\n",
    "\n",
    "print(ma_liste)"
   ]
  },
  {
   "cell_type": "markdown",
   "metadata": {},
   "source": [
    "## Exercices : Voitures\n",
    "\n",
    "1- Créer une liste de voitures (liste_voitures) à l'aide d'input (\"Quel est la marque de votre voiture ?\" et \"Quel est son prix ?\"). \n",
    "\n",
    "Pour cela, utiliser une boucle \"while\" qui se termine quand l'utilisateur répond \"N\" à \"Voulez-vous continuer ? Y/N\"\n",
    "\n",
    "Une voiture doit être représenté par un dictionaire {\"marque\": ..., \"prix\": ...}\n",
    "\n",
    "2- Prix moyen\n",
    "\n",
    "3- Prix Max\n",
    "\n",
    "4- Prix Min\n",
    "\n",
    "5- Trier les voitures par prix (en reprenant le principe du tri bulle qu'on vient de voir)"
   ]
  },
  {
   "cell_type": "code",
   "execution_count": 183,
   "metadata": {},
   "outputs": [
    {
     "name": "stdout",
     "output_type": "stream",
     "text": [
      "Quel est la marque de la voiture ? \n",
      "Renault\n",
      "Quel est la prix de la voiture ? \n",
      "15000\n",
      "Voulez-vous continuer ? Y/N \n",
      "Y\n",
      "Quel est la marque de la voiture ? \n",
      "Peugeot\n",
      "Quel est la prix de la voiture ? \n",
      "20000\n",
      "Voulez-vous continuer ? Y/N \n",
      "Y\n",
      "Quel est la marque de la voiture ? \n",
      "Porsche\n",
      "Quel est la prix de la voiture ? \n",
      "60000\n",
      "Voulez-vous continuer ? Y/N \n",
      "n\n"
     ]
    },
    {
     "data": {
      "text/plain": [
       "[{'prix': '15000', 'marque': 'Renault'},\n",
       " {'prix': '20000', 'marque': 'Peugeot'},\n",
       " {'prix': '60000', 'marque': 'Porsche'}]"
      ]
     },
     "execution_count": 183,
     "metadata": {},
     "output_type": "execute_result"
    }
   ],
   "source": [
    "liste_voitures = []\n",
    "\n",
    "continuer = True\n",
    "\n",
    "while continuer:\n",
    "    marque = input(\"Quel est la marque de la voiture ? \\n\")\n",
    "    prix = input(\"Quel est la prix de la voiture ? \\n\")\n",
    "    liste_voitures.append({\"prix\" : prix, \"marque\": marque})\n",
    "    continuer = input(\"Voulez-vous continuer ? Y/N \\n\") == \"Y\"\n",
    "\n",
    "\n",
    "liste_voitures"
   ]
  },
  {
   "cell_type": "code",
   "execution_count": 186,
   "metadata": {},
   "outputs": [
    {
     "name": "stdout",
     "output_type": "stream",
     "text": [
      "31666.666666666668\n"
     ]
    }
   ],
   "source": [
    "somme = 0\n",
    "for voiture in liste_voitures:\n",
    "    somme += int(voiture[\"prix\"])\n",
    "    \n",
    "moyenne = somme / len(liste_voitures)\n",
    "print(moyenne)"
   ]
  },
  {
   "cell_type": "code",
   "execution_count": 189,
   "metadata": {},
   "outputs": [
    {
     "name": "stderr",
     "output_type": "stream",
     "text": [
      "IOPub data rate exceeded.\n",
      "The notebook server will temporarily stop sending output\n",
      "to the client in order to avoid crashing it.\n",
      "To change this limit, set the config variable\n",
      "`--NotebookApp.iopub_data_rate_limit`.\n",
      "\n",
      "Current values:\n",
      "NotebookApp.iopub_data_rate_limit=1000000.0 (bytes/sec)\n",
      "NotebookApp.rate_limit_window=3.0 (secs)\n",
      "\n"
     ]
    }
   ],
   "source": [
    "import numpy as np\n",
    "\n",
    "help(np)"
   ]
  },
  {
   "cell_type": "code",
   "execution_count": 191,
   "metadata": {},
   "outputs": [
    {
     "data": {
      "text/plain": [
       "'15000'"
      ]
     },
     "execution_count": 191,
     "metadata": {},
     "output_type": "execute_result"
    }
   ],
   "source": [
    "liste_voitures[0][\"prix\"]"
   ]
  },
  {
   "cell_type": "code",
   "execution_count": 192,
   "metadata": {},
   "outputs": [
    {
     "data": {
      "text/plain": [
       "['15000', '20000', '60000']"
      ]
     },
     "execution_count": 192,
     "metadata": {},
     "output_type": "execute_result"
    }
   ],
   "source": [
    "[v[\"prix\"] for v in liste_voitures]"
   ]
  },
  {
   "cell_type": "code",
   "execution_count": 193,
   "metadata": {},
   "outputs": [
    {
     "data": {
      "text/plain": [
       "[{'prix': '15000', 'marque': 'Renault'},\n",
       " {'prix': '20000', 'marque': 'Peugeot'},\n",
       " {'prix': '60000', 'marque': 'Porsche'}]"
      ]
     },
     "execution_count": 193,
     "metadata": {},
     "output_type": "execute_result"
    }
   ],
   "source": [
    "liste_voitures"
   ]
  },
  {
   "cell_type": "code",
   "execution_count": 194,
   "metadata": {},
   "outputs": [
    {
     "name": "stderr",
     "output_type": "stream",
     "text": [
      "C:\\Users\\miguel\\Anaconda3\\lib\\importlib\\_bootstrap.py:219: RuntimeWarning: numpy.ufunc size changed, may indicate binary incompatibility. Expected 192 from C header, got 216 from PyObject\n",
      "  return f(*args, **kwds)\n"
     ]
    },
    {
     "data": {
      "text/html": [
       "<div>\n",
       "<style scoped>\n",
       "    .dataframe tbody tr th:only-of-type {\n",
       "        vertical-align: middle;\n",
       "    }\n",
       "\n",
       "    .dataframe tbody tr th {\n",
       "        vertical-align: top;\n",
       "    }\n",
       "\n",
       "    .dataframe thead th {\n",
       "        text-align: right;\n",
       "    }\n",
       "</style>\n",
       "<table border=\"1\" class=\"dataframe\">\n",
       "  <thead>\n",
       "    <tr style=\"text-align: right;\">\n",
       "      <th></th>\n",
       "      <th>prix</th>\n",
       "      <th>marque</th>\n",
       "    </tr>\n",
       "  </thead>\n",
       "  <tbody>\n",
       "    <tr>\n",
       "      <th>0</th>\n",
       "      <td>15000</td>\n",
       "      <td>Renault</td>\n",
       "    </tr>\n",
       "    <tr>\n",
       "      <th>1</th>\n",
       "      <td>20000</td>\n",
       "      <td>Peugeot</td>\n",
       "    </tr>\n",
       "    <tr>\n",
       "      <th>2</th>\n",
       "      <td>60000</td>\n",
       "      <td>Porsche</td>\n",
       "    </tr>\n",
       "  </tbody>\n",
       "</table>\n",
       "</div>"
      ],
      "text/plain": [
       "    prix   marque\n",
       "0  15000  Renault\n",
       "1  20000  Peugeot\n",
       "2  60000  Porsche"
      ]
     },
     "execution_count": 194,
     "metadata": {},
     "output_type": "execute_result"
    }
   ],
   "source": [
    "import pandas as pd\n",
    "\n",
    "dataframe = pd.DataFrame(liste_voitures)\n",
    "dataframe"
   ]
  },
  {
   "cell_type": "code",
   "execution_count": 196,
   "metadata": {},
   "outputs": [],
   "source": [
    "dataframe[\"prix * 2\"] = dataframe[\"prix\"].astype(int) * 2"
   ]
  },
  {
   "cell_type": "code",
   "execution_count": 197,
   "metadata": {},
   "outputs": [
    {
     "data": {
      "text/html": [
       "<div>\n",
       "<style scoped>\n",
       "    .dataframe tbody tr th:only-of-type {\n",
       "        vertical-align: middle;\n",
       "    }\n",
       "\n",
       "    .dataframe tbody tr th {\n",
       "        vertical-align: top;\n",
       "    }\n",
       "\n",
       "    .dataframe thead th {\n",
       "        text-align: right;\n",
       "    }\n",
       "</style>\n",
       "<table border=\"1\" class=\"dataframe\">\n",
       "  <thead>\n",
       "    <tr style=\"text-align: right;\">\n",
       "      <th></th>\n",
       "      <th>prix</th>\n",
       "      <th>marque</th>\n",
       "      <th>prix * 2</th>\n",
       "    </tr>\n",
       "  </thead>\n",
       "  <tbody>\n",
       "    <tr>\n",
       "      <th>0</th>\n",
       "      <td>15000</td>\n",
       "      <td>Renault</td>\n",
       "      <td>30000</td>\n",
       "    </tr>\n",
       "    <tr>\n",
       "      <th>1</th>\n",
       "      <td>20000</td>\n",
       "      <td>Peugeot</td>\n",
       "      <td>40000</td>\n",
       "    </tr>\n",
       "    <tr>\n",
       "      <th>2</th>\n",
       "      <td>60000</td>\n",
       "      <td>Porsche</td>\n",
       "      <td>120000</td>\n",
       "    </tr>\n",
       "  </tbody>\n",
       "</table>\n",
       "</div>"
      ],
      "text/plain": [
       "    prix   marque  prix * 2\n",
       "0  15000  Renault     30000\n",
       "1  20000  Peugeot     40000\n",
       "2  60000  Porsche    120000"
      ]
     },
     "execution_count": 197,
     "metadata": {},
     "output_type": "execute_result"
    }
   ],
   "source": [
    "dataframe"
   ]
  },
  {
   "cell_type": "code",
   "execution_count": null,
   "metadata": {},
   "outputs": [],
   "source": []
  }
 ],
 "metadata": {
  "kernelspec": {
   "display_name": "Python 3",
   "language": "python",
   "name": "python3"
  },
  "language_info": {
   "codemirror_mode": {
    "name": "ipython",
    "version": 3
   },
   "file_extension": ".py",
   "mimetype": "text/x-python",
   "name": "python",
   "nbconvert_exporter": "python",
   "pygments_lexer": "ipython3",
   "version": "3.7.3"
  }
 },
 "nbformat": 4,
 "nbformat_minor": 4
}
